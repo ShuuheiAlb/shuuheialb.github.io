{
 "cells": [
  {
   "cell_type": "markdown",
   "metadata": {},
   "source": [
    "\n",
    "# White Shark Habitat Spatial Analysis\n",
    "\n",
    "---\n",
    "\n",
    "Inspired by the increasing importance of understanding marine ecosystems and enhancing shark conservation efforts, this project aims to analyse the spatial dynamics of the habitats of white sharks in Australia.\n",
    "\n",
    "### Data Source\n",
    "\n",
    "Our data is sourced from [Australia’s Integrated Marine Observing System (IMOS) Animal Tracking Database](https://animaltracking.aodn.org.au). IMOS is enabled by the National Collaborative Research Infrastructure Strategy (NCRIS). It is operated by a consortium of institutions as an unincorporated joint venture, with the University of Tasmania as Lead Agent.\n",
    "\n",
    "### Analysis Tool\n",
    "\n",
    "PostgreSQL is our primary tool in this analysis."
   ]
  },
  {
   "cell_type": "code",
   "execution_count": null,
   "metadata": {},
   "outputs": [],
   "source": []
  }
 ],
 "metadata": {
  "kernelspec": {
   "display_name": "R",
   "language": "R",
   "name": "ir"
  },
  "language_info": {
   "codemirror_mode": "r",
   "file_extension": ".r",
   "mimetype": "text/x-r-source",
   "name": "R",
   "pygments_lexer": "r",
   "version": "4.3.1"
  }
 },
 "nbformat": 4,
 "nbformat_minor": 4
}
