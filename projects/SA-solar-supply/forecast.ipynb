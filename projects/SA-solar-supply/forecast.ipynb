{
 "cells": [
  {
   "cell_type": "markdown",
   "metadata": {},
   "source": [
    "# South Australia Solar Supply Forecast\n",
    "\n",
    "---\n",
    "\n",
    "As South Australia progresses toward its 100% renewable energy target by 2030, having robust forecasting tools becomes ever more critical to maintain reliability as dependency on solar/wind increases. This project aims to forecast energy supply from solar photovoltaic (PV) in South Australia; a crucial step toward shaping sustainable energy strategies for the region.\n",
    "\n",
    "### Data Source\n",
    "\n",
    "Our data is collected with [OpenNEM API](https://opennem.org.au/) and [Open Meteo API](https://open-meteo.com/), made available under [CC BY 4.0 License](https://creativecommons.org/licenses/by/4.0/).\n",
    "\n",
    "### Analysis Tool\n",
    "\n",
    "We will be using Python 3 in this project.\n",
    "\n",
    "---"
   ]
  },
  {
   "cell_type": "markdown",
   "metadata": {},
   "source": [
    "## Navigating OpenNEM API\n"
   ]
  },
  {
   "cell_type": "code",
   "execution_count": null,
   "metadata": {},
   "outputs": [],
   "source": []
  }
 ],
 "metadata": {
  "kernelspec": {
   "display_name": "Python 3",
   "language": "python",
   "name": "python3"
  },
  "language_info": {
   "codemirror_mode": {
    "name": "ipython",
    "version": 3
   },
   "file_extension": ".py",
   "mimetype": "text/x-python",
   "name": "python",
   "nbconvert_exporter": "python",
   "pygments_lexer": "ipython3",
   "version": "3.8.10"
  }
 },
 "nbformat": 4,
 "nbformat_minor": 4
}
